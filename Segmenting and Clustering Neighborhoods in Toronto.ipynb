{
 "cells": [
  {
   "cell_type": "markdown",
   "metadata": {},
   "source": [
    "# The Assignment of Week 3\n",
    "### Import all the libraries I need in this notebook"
   ]
  },
  {
   "cell_type": "code",
   "execution_count": 1,
   "metadata": {},
   "outputs": [
    {
     "name": "stdout",
     "output_type": "stream",
     "text": [
      "Libraries imported.\n"
     ]
    }
   ],
   "source": [
    "import numpy as np # library to handle data in a vectorized manner\n",
    "\n",
    "import pandas as pd # library for dataframe\n",
    "import requests # library to handle requests\n",
    "from bs4 import BeautifulSoup # library for web scrapting\n",
    "\n",
    "print('Libraries imported.')"
   ]
  },
  {
   "cell_type": "markdown",
   "metadata": {},
   "source": [
    "### web scrapting\n",
    "   *Scrapt the table from wikipedia  \n",
    "   *Assign three lists which will be used to form the dataframe"
   ]
  },
  {
   "cell_type": "code",
   "execution_count": 2,
   "metadata": {},
   "outputs": [],
   "source": [
    "# assign the website address\n",
    "web_url = requests.get('https://en.wikipedia.org/wiki/List_of_postal_codes_of_Canada:_M').text\n",
    "soup = BeautifulSoup(web_url, 'lxml')\n",
    "\n",
    "# prepare for scrapting\n",
    "postalcodes, borough, neighborhood = [], [], [] #assign\n",
    "\n",
    "#start to scrapting\n",
    "for items in soup.find('table', class_ = 'wikitable sortable').find_all('tr')[1::1]:\n",
    "    data = items.find_all(['th','td'])\n",
    "    try:\n",
    "        # appending data to the list\n",
    "        postalcodes.append(data[0].text)\n",
    "        borough.append(data[1].text)\n",
    "        neighborhood.append(data[1].find_next_sibling().text.rstrip('\\n'))\n",
    "    except IndexError:pass"
   ]
  },
  {
   "cell_type": "markdown",
   "metadata": {},
   "source": [
    "### Transfer Table to Dataframe\n",
    "   *Collect three list to form the dataframe  \n",
    "   *Drop all the rows have \"Not Assigned\" value"
   ]
  },
  {
   "cell_type": "code",
   "execution_count": 3,
   "metadata": {},
   "outputs": [],
   "source": [
    "#Assign the list to sets with column name\n",
    "df_dict = {'PostalCode': postalcodes, 'Borough': borough, 'Neighborhood': neighborhood}\n",
    "#Dataframe\n",
    "df = pd.DataFrame(data=df_dict)\n",
    "#drop the not assigned value\n",
    "df.drop(df[(df['Borough'] == 'Not assigned') | (df['Neighborhood'] == 'Not assigned')].index, inplace=True)\n",
    "df = df.reset_index(drop=True).groupby(['PostalCode','Borough'], sort=False, as_index = False).agg( ','.join)"
   ]
  },
  {
   "cell_type": "markdown",
   "metadata": {},
   "source": [
    "### Shape"
   ]
  },
  {
   "cell_type": "code",
   "execution_count": 4,
   "metadata": {},
   "outputs": [
    {
     "data": {
      "text/plain": [
       "(102, 3)"
      ]
     },
     "execution_count": 4,
     "metadata": {},
     "output_type": "execute_result"
    }
   ],
   "source": [
    "df.shape"
   ]
  }
 ],
 "metadata": {
  "kernelspec": {
   "display_name": "Python 3",
   "language": "python",
   "name": "python3"
  },
  "language_info": {
   "codemirror_mode": {
    "name": "ipython",
    "version": 3
   },
   "file_extension": ".py",
   "mimetype": "text/x-python",
   "name": "python",
   "nbconvert_exporter": "python",
   "pygments_lexer": "ipython3",
   "version": "3.7.1"
  }
 },
 "nbformat": 4,
 "nbformat_minor": 2
}
